{
 "cells": [
  {
   "cell_type": "code",
   "execution_count": 1,
   "id": "5b7135bb-70bd-4702-b977-24200d5e8794",
   "metadata": {},
   "outputs": [],
   "source": [
    "from pyspark.sql import SparkSession"
   ]
  },
  {
   "cell_type": "code",
   "execution_count": 2,
   "id": "1bf4d20d-0e90-4627-9814-502cc0df1e72",
   "metadata": {},
   "outputs": [],
   "source": [
    "spark = SparkSession.builder.appName(\"CarPrice\").getOrCreate()"
   ]
  },
  {
   "cell_type": "code",
   "execution_count": 3,
   "id": "b0979e1c-d165-41e5-b492-1f4d5da52518",
   "metadata": {},
   "outputs": [],
   "source": [
    "df = spark.read.csv(\"Car details v3.csv\",header=True,inferSchema=True)"
   ]
  },
  {
   "cell_type": "code",
   "execution_count": 4,
   "id": "1afd28ba-205e-4e0d-a1fe-13fef1442a97",
   "metadata": {},
   "outputs": [
    {
     "name": "stdout",
     "output_type": "stream",
     "text": [
      "+--------------------+----+-------------+---------+------+-----------+------------+-----------+---------+-------+---------+--------------+-----+\n",
      "|                name|year|selling_price|km_driven|  fuel|seller_type|transmission|      owner|  mileage| engine|max_power|        torque|seats|\n",
      "+--------------------+----+-------------+---------+------+-----------+------------+-----------+---------+-------+---------+--------------+-----+\n",
      "|Maruti Swift Dzir...|2014|       450000|   145500|Diesel| Individual|      Manual|First Owner|23.4 kmpl|1248 CC|   74 bhp|190Nm@ 2000rpm|    5|\n",
      "+--------------------+----+-------------+---------+------+-----------+------------+-----------+---------+-------+---------+--------------+-----+\n",
      "only showing top 1 row\n",
      "\n"
     ]
    }
   ],
   "source": [
    "df.show(1)"
   ]
  },
  {
   "cell_type": "code",
   "execution_count": 5,
   "id": "05e36d35-c74a-43ee-808b-92130ee862f8",
   "metadata": {},
   "outputs": [
    {
     "name": "stdout",
     "output_type": "stream",
     "text": [
      "root\n",
      " |-- name: string (nullable = true)\n",
      " |-- year: integer (nullable = true)\n",
      " |-- selling_price: integer (nullable = true)\n",
      " |-- km_driven: integer (nullable = true)\n",
      " |-- fuel: string (nullable = true)\n",
      " |-- seller_type: string (nullable = true)\n",
      " |-- transmission: string (nullable = true)\n",
      " |-- owner: string (nullable = true)\n",
      " |-- mileage: string (nullable = true)\n",
      " |-- engine: string (nullable = true)\n",
      " |-- max_power: string (nullable = true)\n",
      " |-- torque: string (nullable = true)\n",
      " |-- seats: integer (nullable = true)\n",
      "\n"
     ]
    }
   ],
   "source": [
    "df.printSchema()"
   ]
  },
  {
   "cell_type": "code",
   "execution_count": 6,
   "id": "7d1afe6c-d39d-466c-9cc8-bd47deb33e3a",
   "metadata": {},
   "outputs": [],
   "source": [
    "df = df.drop(\"name\",\"torque\")"
   ]
  },
  {
   "cell_type": "code",
   "execution_count": 7,
   "id": "4cf47219-4fbf-4a02-9d42-7ad7add31f97",
   "metadata": {},
   "outputs": [
    {
     "name": "stdout",
     "output_type": "stream",
     "text": [
      "root\n",
      " |-- year: integer (nullable = true)\n",
      " |-- selling_price: integer (nullable = true)\n",
      " |-- km_driven: integer (nullable = true)\n",
      " |-- fuel: string (nullable = true)\n",
      " |-- seller_type: string (nullable = true)\n",
      " |-- transmission: string (nullable = true)\n",
      " |-- owner: string (nullable = true)\n",
      " |-- mileage: string (nullable = true)\n",
      " |-- engine: string (nullable = true)\n",
      " |-- max_power: string (nullable = true)\n",
      " |-- seats: integer (nullable = true)\n",
      "\n"
     ]
    }
   ],
   "source": [
    "df.printSchema()"
   ]
  },
  {
   "cell_type": "code",
   "execution_count": 8,
   "id": "efb8e226-9f77-4b9f-b3ec-120e7a6c8545",
   "metadata": {},
   "outputs": [
    {
     "name": "stdout",
     "output_type": "stream",
     "text": [
      "+-------+------------------+-----------------+------------------+----------------+\n",
      "|summary|              year|    selling_price|         km_driven|           seats|\n",
      "+-------+------------------+-----------------+------------------+----------------+\n",
      "|  count|              8128|             8128|              8128|            7907|\n",
      "|   mean|2013.8040108267717|638271.8077017716| 69819.51082677166|5.41671936259011|\n",
      "| stddev| 4.044248753683651|806253.4035082327|56550.554958219276|0.95958752023399|\n",
      "|    min|              1983|            29999|                 1|               2|\n",
      "|    max|              2020|         10000000|           2360457|              14|\n",
      "+-------+------------------+-----------------+------------------+----------------+\n",
      "\n"
     ]
    }
   ],
   "source": [
    "df.select(\"year\",\"selling_price\",\"km_driven\",\"seats\").describe().show()"
   ]
  },
  {
   "cell_type": "code",
   "execution_count": 9,
   "id": "b65ba96f-5f4d-4e0b-a825-69fb8b897408",
   "metadata": {},
   "outputs": [],
   "source": [
    "# year\n",
    "# km_driven\n",
    "# fuel\n",
    "# seller_type\n",
    "# transmission\n",
    "# owner\n",
    "# mileage\n",
    "# engine\n",
    "# max_power\n",
    "# seats"
   ]
  },
  {
   "cell_type": "code",
   "execution_count": 10,
   "id": "7d06ef99-e8aa-4c0b-a76d-bce1cdf6773e",
   "metadata": {},
   "outputs": [],
   "source": [
    "from pyspark.sql.functions import regexp_extract, col\n",
    "\n",
    "# Extract numeric value from strings using regex\n",
    "df = df.withColumn(\"mileage\", regexp_extract(col(\"mileage\"), r\"([\\d.]+)\", 1).cast(\"float\"))\n",
    "df = df.withColumn(\"engine\", regexp_extract(col(\"engine\"), r\"([\\d.]+)\", 1).cast(\"int\"))\n",
    "df = df.withColumn(\"max_power\", regexp_extract(col(\"max_power\"), r\"([\\d.]+)\", 1).cast(\"float\"))\n"
   ]
  },
  {
   "cell_type": "code",
   "execution_count": 11,
   "id": "384915ee-e06e-40cd-b81f-fae89ac15c48",
   "metadata": {},
   "outputs": [
    {
     "name": "stdout",
     "output_type": "stream",
     "text": [
      "+----+-------------+---------+------+-----------+------------+-----------+-------+------+---------+-----+\n",
      "|year|selling_price|km_driven|  fuel|seller_type|transmission|      owner|mileage|engine|max_power|seats|\n",
      "+----+-------------+---------+------+-----------+------------+-----------+-------+------+---------+-----+\n",
      "|2014|       450000|   145500|Diesel| Individual|      Manual|First Owner|   23.4|  1248|     74.0|    5|\n",
      "+----+-------------+---------+------+-----------+------------+-----------+-------+------+---------+-----+\n",
      "only showing top 1 row\n",
      "\n"
     ]
    }
   ],
   "source": [
    "df.show(1)"
   ]
  },
  {
   "cell_type": "code",
   "execution_count": 12,
   "id": "358f8bef-c089-44ff-bae5-49d62ad4b780",
   "metadata": {},
   "outputs": [],
   "source": [
    "df = df.withColumnRenamed(\"mileage\", \"mileage_kmpl\") \\\n",
    "       .withColumnRenamed(\"engine\", \"engine_cc\") \\\n",
    "       .withColumnRenamed(\"max_power\", \"max_power_bhp\")\n"
   ]
  },
  {
   "cell_type": "code",
   "execution_count": 13,
   "id": "2bf7facb-d20c-4fad-9282-3aaf8bcebccb",
   "metadata": {},
   "outputs": [
    {
     "name": "stdout",
     "output_type": "stream",
     "text": [
      "root\n",
      " |-- year: integer (nullable = true)\n",
      " |-- selling_price: integer (nullable = true)\n",
      " |-- km_driven: integer (nullable = true)\n",
      " |-- fuel: string (nullable = true)\n",
      " |-- seller_type: string (nullable = true)\n",
      " |-- transmission: string (nullable = true)\n",
      " |-- owner: string (nullable = true)\n",
      " |-- mileage_kmpl: float (nullable = true)\n",
      " |-- engine_cc: integer (nullable = true)\n",
      " |-- max_power_bhp: float (nullable = true)\n",
      " |-- seats: integer (nullable = true)\n",
      "\n"
     ]
    }
   ],
   "source": [
    "df.printSchema()"
   ]
  },
  {
   "cell_type": "code",
   "execution_count": 14,
   "id": "38c4aa4b-477b-4717-8f29-36a94e3431f8",
   "metadata": {},
   "outputs": [
    {
     "name": "stdout",
     "output_type": "stream",
     "text": [
      "+----+-------------+---------+----+-----------+------------+-----+------------+---------+-------------+-----+\n",
      "|year|selling_price|km_driven|fuel|seller_type|transmission|owner|mileage_kmpl|engine_cc|max_power_bhp|seats|\n",
      "+----+-------------+---------+----+-----------+------------+-----+------------+---------+-------------+-----+\n",
      "|   0|            0|        0|   0|          0|           0|    0|         221|      221|          216|  221|\n",
      "+----+-------------+---------+----+-----------+------------+-----+------------+---------+-------------+-----+\n",
      "\n"
     ]
    }
   ],
   "source": [
    "from pyspark.sql.functions import col,isnan, when, count\n",
    "df.select([count(when(isnan(c) | col(c).isNull(), c)).alias(c) for c in df.columns]\n",
    "   ).show()"
   ]
  },
  {
   "cell_type": "code",
   "execution_count": 15,
   "id": "bf015b2f-24e5-446c-b4a1-ac4e5418fb3e",
   "metadata": {},
   "outputs": [],
   "source": [
    "from pyspark.sql.types import IntegerType, FloatType, DoubleType\n",
    "\n",
    "numeric_column_names = [column.name for column in df.schema.fields\n",
    "                        if isinstance(column.dataType, (IntegerType, FloatType, DoubleType))]"
   ]
  },
  {
   "cell_type": "code",
   "execution_count": 16,
   "id": "d1e88ac2-461e-43ce-b94d-50417c00140a",
   "metadata": {},
   "outputs": [],
   "source": [
    "from pyspark.ml.feature import Imputer\n",
    "\n",
    "# Initialize the Imputer\n",
    "imputer = Imputer(inputCols= [\"mileage_kmpl\",\"engine_cc\",\"max_power_bhp\",\"seats\"], #specifying the input column names\n",
    "    outputCols=[\"mileage_kmpl\",\"engine_cc\",\"max_power_bhp\",\"seats\"], #specifying the output column names\n",
    "    strategy=\"mean\"                  # or \"median\" if you want to use the median value\n",
    ")\n",
    "# Fit the Imputer\n",
    "model = imputer.fit(df)\n",
    "\n",
    "#Transform the dataset\n",
    "df = model.transform(df)"
   ]
  },
  {
   "cell_type": "code",
   "execution_count": 17,
   "id": "1d9fd020-bcc1-4ec2-aa92-97bd042a15d7",
   "metadata": {},
   "outputs": [
    {
     "name": "stdout",
     "output_type": "stream",
     "text": [
      "+----+-------------+---------+----+-----------+------------+-----+------------+---------+-------------+-----+\n",
      "|year|selling_price|km_driven|fuel|seller_type|transmission|owner|mileage_kmpl|engine_cc|max_power_bhp|seats|\n",
      "+----+-------------+---------+----+-----------+------------+-----+------------+---------+-------------+-----+\n",
      "|   0|            0|        0|   0|          0|           0|    0|           0|        0|            0|    0|\n",
      "+----+-------------+---------+----+-----------+------------+-----+------------+---------+-------------+-----+\n",
      "\n"
     ]
    }
   ],
   "source": [
    "df.select([count(when(isnan(c) | col(c).isNull(), c)).alias(c) for c in df.columns]\n",
    "   ).show()"
   ]
  },
  {
   "cell_type": "code",
   "execution_count": 18,
   "id": "7d3db231-ebb9-41dc-8cc4-746f8067cf9b",
   "metadata": {},
   "outputs": [
    {
     "name": "stdout",
     "output_type": "stream",
     "text": [
      "+------+\n",
      "|  fuel|\n",
      "+------+\n",
      "|Diesel|\n",
      "|   CNG|\n",
      "|   LPG|\n",
      "|Petrol|\n",
      "+------+\n",
      "\n",
      "+----------------+\n",
      "|     seller_type|\n",
      "+----------------+\n",
      "|      Individual|\n",
      "|          Dealer|\n",
      "|Trustmark Dealer|\n",
      "+----------------+\n",
      "\n",
      "+------------+\n",
      "|transmission|\n",
      "+------------+\n",
      "|   Automatic|\n",
      "|      Manual|\n",
      "+------------+\n",
      "\n",
      "+--------------------+\n",
      "|               owner|\n",
      "+--------------------+\n",
      "|         Third Owner|\n",
      "|Fourth & Above Owner|\n",
      "|        Second Owner|\n",
      "|         First Owner|\n",
      "|      Test Drive Car|\n",
      "+--------------------+\n",
      "\n"
     ]
    }
   ],
   "source": [
    "df.select(\"fuel\").distinct().show()\n",
    "df.select(\"seller_type\").distinct().show()\n",
    "df.select(\"transmission\").distinct().show()\n",
    "df.select(\"owner\").distinct().show()"
   ]
  },
  {
   "cell_type": "code",
   "execution_count": 19,
   "id": "5487106c-1ae8-46f8-9faa-314cf164eae0",
   "metadata": {},
   "outputs": [
    {
     "name": "stdout",
     "output_type": "stream",
     "text": [
      "Number of rows: 8128\n",
      "Number of columns: 11\n"
     ]
    }
   ],
   "source": [
    "print(\"Number of rows:\", df.count())\n",
    "print(\"Number of columns:\", len(df.columns))"
   ]
  },
  {
   "cell_type": "code",
   "execution_count": 20,
   "id": "b7231911-a182-4a10-af26-2851eb0d62d7",
   "metadata": {},
   "outputs": [],
   "source": [
    "df = df.drop_duplicates()"
   ]
  },
  {
   "cell_type": "code",
   "execution_count": 21,
   "id": "11c86ead-b53f-4397-9627-6c482d089919",
   "metadata": {},
   "outputs": [
    {
     "name": "stdout",
     "output_type": "stream",
     "text": [
      "Number of rows: 6907\n",
      "Number of columns: 11\n"
     ]
    }
   ],
   "source": [
    "print(\"Number of rows:\", df.count())\n",
    "print(\"Number of columns:\", len(df.columns))"
   ]
  },
  {
   "cell_type": "code",
   "execution_count": 22,
   "id": "cd7d1ae2-d000-490f-908c-64f7de6247c8",
   "metadata": {},
   "outputs": [],
   "source": [
    "from pyspark.ml.feature import StringIndexer, OneHotEncoder\n",
    "from pyspark.ml import Pipeline\n",
    "\n",
    "# Categorical columns to encode\n",
    "categorical_cols = ['fuel', 'seller_type', 'transmission', 'owner']\n",
    "indexers = [StringIndexer(inputCol=col, outputCol=col+\"_index\") for col in categorical_cols]\n",
    "encoders = [OneHotEncoder(inputCol=col+\"_index\", outputCol=col+\"_encoded\") for col in categorical_cols]"
   ]
  },
  {
   "cell_type": "code",
   "execution_count": 23,
   "id": "2601c56f-fb58-4741-83f2-c7276efba035",
   "metadata": {},
   "outputs": [
    {
     "data": {
      "text/plain": [
       "[OneHotEncoder_0d057ea7a87e,\n",
       " OneHotEncoder_84e3a7ea9ba5,\n",
       " OneHotEncoder_cfb14a38bb98,\n",
       " OneHotEncoder_05a708fc467c]"
      ]
     },
     "execution_count": 23,
     "metadata": {},
     "output_type": "execute_result"
    }
   ],
   "source": [
    "encoders"
   ]
  },
  {
   "cell_type": "code",
   "execution_count": 24,
   "id": "76350265-2be6-45ad-a02c-5f03d1dfb877",
   "metadata": {},
   "outputs": [],
   "source": [
    "from pyspark.ml.feature import VectorAssembler\n",
    "\n",
    "# Numerical + encoded categorical columns\n",
    "numerical_cols = ['year', 'km_driven', 'mileage_kmpl', 'engine_cc', 'max_power_bhp', 'seats']\n",
    "assembler_inputs = [col+\"_encoded\" for col in categorical_cols] + numerical_cols\n",
    "assembler = VectorAssembler(inputCols=assembler_inputs, outputCol=\"features\")"
   ]
  },
  {
   "cell_type": "code",
   "execution_count": 25,
   "id": "3d08a4af-e5e5-4604-a632-1cc223e39b14",
   "metadata": {},
   "outputs": [
    {
     "data": {
      "text/plain": [
       "VectorAssembler_fc92f3351d16"
      ]
     },
     "execution_count": 25,
     "metadata": {},
     "output_type": "execute_result"
    }
   ],
   "source": [
    "assembler"
   ]
  },
  {
   "cell_type": "code",
   "execution_count": 26,
   "id": "92aa60ec-1adb-430b-ad09-cbddc89b959d",
   "metadata": {},
   "outputs": [
    {
     "name": "stdout",
     "output_type": "stream",
     "text": [
      "+--------------------------------------------------------------------------------------------------------+-------------+\n",
      "|features                                                                                                |selling_price|\n",
      "+--------------------------------------------------------------------------------------------------------+-------------+\n",
      "|(16,[0,4,6,10,11,12,13,14,15],[1.0,1.0,1.0,2017.0,47000.0,13.5,2987.0,282.0,5.0])                       |5850000      |\n",
      "|[1.0,0.0,0.0,1.0,0.0,1.0,0.0,1.0,0.0,0.0,2009.0,70000.0,13.600000381469727,2523.0,63.0,8.0]             |270000       |\n",
      "|[0.0,1.0,0.0,1.0,0.0,1.0,1.0,0.0,0.0,0.0,2019.0,20000.0,18.899999618530273,1197.0,81.86000061035156,5.0]|600000       |\n",
      "|[0.0,1.0,0.0,1.0,0.0,1.0,1.0,0.0,0.0,0.0,2019.0,30000.0,18.600000381469727,1197.0,81.86000061035156,5.0]|750000       |\n",
      "|[1.0,0.0,0.0,1.0,0.0,1.0,1.0,0.0,0.0,0.0,2005.0,80000.0,13.600000381469727,2523.0,63.0,7.0]             |250000       |\n",
      "+--------------------------------------------------------------------------------------------------------+-------------+\n",
      "only showing top 5 rows\n",
      "\n"
     ]
    }
   ],
   "source": [
    "pipeline = Pipeline(stages=indexers + encoders + [assembler])\n",
    "pipeline_model = pipeline.fit(df)\n",
    "df = pipeline_model.transform(df)\n",
    "\n",
    "# Show the final features and target column\n",
    "df.select(\"features\", \"selling_price\").show(5, truncate=False)"
   ]
  },
  {
   "cell_type": "code",
   "execution_count": 27,
   "id": "e5b7453c-92e8-4c70-a0fd-588d337547a4",
   "metadata": {},
   "outputs": [
    {
     "name": "stdout",
     "output_type": "stream",
     "text": [
      "root\n",
      " |-- year: integer (nullable = true)\n",
      " |-- selling_price: integer (nullable = true)\n",
      " |-- km_driven: integer (nullable = true)\n",
      " |-- fuel: string (nullable = true)\n",
      " |-- seller_type: string (nullable = true)\n",
      " |-- transmission: string (nullable = true)\n",
      " |-- owner: string (nullable = true)\n",
      " |-- mileage_kmpl: float (nullable = true)\n",
      " |-- engine_cc: integer (nullable = true)\n",
      " |-- max_power_bhp: float (nullable = true)\n",
      " |-- seats: integer (nullable = true)\n",
      " |-- fuel_index: double (nullable = false)\n",
      " |-- seller_type_index: double (nullable = false)\n",
      " |-- transmission_index: double (nullable = false)\n",
      " |-- owner_index: double (nullable = false)\n",
      " |-- fuel_encoded: vector (nullable = true)\n",
      " |-- seller_type_encoded: vector (nullable = true)\n",
      " |-- transmission_encoded: vector (nullable = true)\n",
      " |-- owner_encoded: vector (nullable = true)\n",
      " |-- features: vector (nullable = true)\n",
      "\n"
     ]
    }
   ],
   "source": [
    "df.printSchema()"
   ]
  },
  {
   "cell_type": "code",
   "execution_count": 28,
   "id": "6f2fa403-9a4d-4d35-88c6-66f9bfc93b83",
   "metadata": {},
   "outputs": [
    {
     "name": "stdout",
     "output_type": "stream",
     "text": [
      "Number of rows: 6907\n",
      "Number of columns: 20\n"
     ]
    }
   ],
   "source": [
    "print(\"Number of rows:\", df.count())\n",
    "print(\"Number of columns:\", len(df.columns))"
   ]
  },
  {
   "cell_type": "code",
   "execution_count": 29,
   "id": "f2b10cc1-377b-4663-922c-92c78946e8d2",
   "metadata": {},
   "outputs": [],
   "source": [
    "#numeric_features = [\"year\", \"km_driven\", \"mileage_kmpl\", \"engine_cc\", \"max_power_bhp\", \"seats\"]\n",
    "#pandas_df = df.select(numeric_features).toPandas()"
   ]
  },
  {
   "cell_type": "code",
   "execution_count": 30,
   "id": "848525f1-c66e-4afc-a9aa-8364d415f878",
   "metadata": {},
   "outputs": [],
   "source": [
    "#import seaborn as sns\n",
    "#import matplotlib.pyplot as plt\n",
    "\n",
    "#corr = pandas_df.corr()\n",
    "\n",
    "#plt.figure(figsize=(8,6))\n",
    "#sns.heatmap(corr, annot=True, cmap=\"coolwarm\")\n",
    "#plt.title(\"Correlation Matrix\")\n",
    "#plt.show()"
   ]
  },
  {
   "cell_type": "code",
   "execution_count": 31,
   "id": "e753d461-60d7-4184-92c3-8b475e3ba9e7",
   "metadata": {},
   "outputs": [],
   "source": [
    "#sns.pairplot(data=pandas_df)\n",
    "#plt.show()"
   ]
  },
  {
   "cell_type": "code",
   "execution_count": 32,
   "id": "28717b9f-b5ca-4ba7-aa2f-3b65c33ed5f3",
   "metadata": {},
   "outputs": [],
   "source": [
    "from pyspark.ml.regression import LinearRegression"
   ]
  },
  {
   "cell_type": "code",
   "execution_count": 33,
   "id": "ee2003ce-1ff7-4e4f-b76b-9fd4bc0cd085",
   "metadata": {},
   "outputs": [],
   "source": [
    "lr = LinearRegression(featuresCol=\"features\", labelCol=\"selling_price\")"
   ]
  },
  {
   "cell_type": "code",
   "execution_count": 34,
   "id": "f5747de8-e448-43af-973e-0d64bb6c2eeb",
   "metadata": {},
   "outputs": [],
   "source": [
    "model_lr = lr.fit(df)"
   ]
  },
  {
   "cell_type": "code",
   "execution_count": 35,
   "id": "46f23118-97e8-4c2a-90b3-91d6bcb0d4b7",
   "metadata": {},
   "outputs": [
    {
     "name": "stdout",
     "output_type": "stream",
     "text": [
      "+--------------------+-------------+------------------+\n",
      "|            features|selling_price|        prediction|\n",
      "+--------------------+-------------+------------------+\n",
      "|(16,[0,4,6,10,11,...|      5850000|2787380.3158815354|\n",
      "|[1.0,0.0,0.0,1.0,...|       270000| 168632.9874541387|\n",
      "|[0.0,1.0,0.0,1.0,...|       600000| 615145.6169371903|\n",
      "|[0.0,1.0,0.0,1.0,...|       750000| 607469.9634507522|\n",
      "|[1.0,0.0,0.0,1.0,...|       250000| 91037.44441560656|\n",
      "+--------------------+-------------+------------------+\n",
      "only showing top 5 rows\n",
      "\n"
     ]
    }
   ],
   "source": [
    "predictions_lr = model_lr.transform(df)\n",
    "predictions_lr.select(\"features\", \"selling_price\", \"prediction\").show(5)"
   ]
  },
  {
   "cell_type": "code",
   "execution_count": 36,
   "id": "33a10384-2201-4d1d-914b-adcd7837c390",
   "metadata": {},
   "outputs": [
    {
     "name": "stdout",
     "output_type": "stream",
     "text": [
      "Root Mean Squared Error (RMSE): 311480.1698597603\n"
     ]
    }
   ],
   "source": [
    "from pyspark.ml.evaluation import RegressionEvaluator\n",
    "\n",
    "evaluator = RegressionEvaluator(labelCol=\"selling_price\", predictionCol=\"prediction\", metricName=\"rmse\")\n",
    "rmse = evaluator.evaluate(predictions_lr)\n",
    "print(f\"Root Mean Squared Error (RMSE): {rmse}\")"
   ]
  },
  {
   "cell_type": "code",
   "execution_count": 37,
   "id": "288258fc-6477-49b1-8a70-19ca7a7c8c26",
   "metadata": {},
   "outputs": [],
   "source": [
    "from pyspark.ml.regression import DecisionTreeRegressor"
   ]
  },
  {
   "cell_type": "code",
   "execution_count": 38,
   "id": "4f9c97e2-18f4-47ab-91dd-ceb787d92fbe",
   "metadata": {},
   "outputs": [],
   "source": [
    "dt = DecisionTreeRegressor(featuresCol=\"features\", labelCol=\"selling_price\",maxDepth=23)"
   ]
  },
  {
   "cell_type": "code",
   "execution_count": 39,
   "id": "1238149e-b492-4762-989a-9c895c796724",
   "metadata": {},
   "outputs": [
    {
     "name": "stdout",
     "output_type": "stream",
     "text": [
      "+--------------------+-------------+----------+\n",
      "|            features|selling_price|prediction|\n",
      "+--------------------+-------------+----------+\n",
      "|(16,[0,4,6,10,11,...|      5850000| 5850000.0|\n",
      "|[1.0,0.0,0.0,1.0,...|       270000|  270000.0|\n",
      "|[0.0,1.0,0.0,1.0,...|       600000|  600000.0|\n",
      "|[0.0,1.0,0.0,1.0,...|       750000|  750000.0|\n",
      "|[1.0,0.0,0.0,1.0,...|       250000|  250000.0|\n",
      "+--------------------+-------------+----------+\n",
      "only showing top 5 rows\n",
      "\n"
     ]
    }
   ],
   "source": [
    "model_dt = dt.fit(df)\n",
    "predictions_dt = model_dt.transform(df)\n",
    "predictions_dt.select(\"features\", \"selling_price\", \"prediction\").show(5)\n"
   ]
  },
  {
   "cell_type": "code",
   "execution_count": 40,
   "id": "ae921d7c-21bb-4168-bc7e-1756d06cf527",
   "metadata": {},
   "outputs": [
    {
     "name": "stdout",
     "output_type": "stream",
     "text": [
      "Root Mean Squared Error (RMSE): 26390.534861540946\n"
     ]
    }
   ],
   "source": [
    "evaluator_dt = RegressionEvaluator(labelCol=\"selling_price\", predictionCol=\"prediction\", metricName=\"rmse\")\n",
    "rmse_dt = evaluator_dt.evaluate(predictions_dt)\n",
    "print(f\"Root Mean Squared Error (RMSE): {rmse_dt}\")"
   ]
  },
  {
   "cell_type": "code",
   "execution_count": 41,
   "id": "810a7ce1-2599-41fd-be1c-f901088f2aa6",
   "metadata": {},
   "outputs": [],
   "source": [
    "from pyspark.ml.regression import RandomForestRegressor"
   ]
  },
  {
   "cell_type": "code",
   "execution_count": 42,
   "id": "03d96a7f-f40d-4655-a294-8c5aa4eb275a",
   "metadata": {},
   "outputs": [],
   "source": [
    "rf = RandomForestRegressor(featuresCol=\"features\", labelCol=\"selling_price\",maxDepth=9)"
   ]
  },
  {
   "cell_type": "code",
   "execution_count": 43,
   "id": "1da46f71-52be-40a2-89d6-fa659fea5101",
   "metadata": {},
   "outputs": [
    {
     "name": "stdout",
     "output_type": "stream",
     "text": [
      "+--------------------+-------------+------------------+\n",
      "|            features|selling_price|        prediction|\n",
      "+--------------------+-------------+------------------+\n",
      "|(16,[0,4,6,10,11,...|      5850000|4046510.8677776335|\n",
      "|[1.0,0.0,0.0,1.0,...|       270000| 293955.5537739893|\n",
      "|[0.0,1.0,0.0,1.0,...|       600000| 584316.4407415693|\n",
      "|[0.0,1.0,0.0,1.0,...|       750000| 582807.1391339686|\n",
      "|[1.0,0.0,0.0,1.0,...|       250000|247591.65183357825|\n",
      "+--------------------+-------------+------------------+\n",
      "only showing top 5 rows\n",
      "\n"
     ]
    }
   ],
   "source": [
    "model_rf = rf.fit(df)\n",
    "predictions_rf = model_rf.transform(df)\n",
    "predictions_rf.select(\"features\", \"selling_price\", \"prediction\").show(5)\n"
   ]
  },
  {
   "cell_type": "code",
   "execution_count": 44,
   "id": "853d0c7e-77ce-45d2-9e4c-be9a47536fd0",
   "metadata": {},
   "outputs": [
    {
     "name": "stdout",
     "output_type": "stream",
     "text": [
      "Root Mean Squared Error (RMSE): 130727.79767947654\n"
     ]
    }
   ],
   "source": [
    "evaluator_rf = RegressionEvaluator(labelCol=\"selling_price\", predictionCol=\"prediction\", metricName=\"rmse\")\n",
    "rmse_rf = evaluator_rf.evaluate(predictions_rf)\n",
    "print(f\"Root Mean Squared Error (RMSE): {rmse_rf}\")"
   ]
  },
  {
   "cell_type": "code",
   "execution_count": 45,
   "id": "f976e55b-2d94-4129-bd36-07e6f8c75575",
   "metadata": {},
   "outputs": [],
   "source": [
    "from pyspark.ml.regression import GBTRegressor"
   ]
  },
  {
   "cell_type": "code",
   "execution_count": 46,
   "id": "900c4459-253e-46b1-aec9-5b6bc37e8861",
   "metadata": {},
   "outputs": [],
   "source": [
    "gbt = GBTRegressor(featuresCol=\"features\", labelCol=\"selling_price\", maxDepth=19)"
   ]
  },
  {
   "cell_type": "code",
   "execution_count": 47,
   "id": "2493e9c6-d4d1-45b9-b7c3-c2b6eefe7d2a",
   "metadata": {},
   "outputs": [
    {
     "name": "stdout",
     "output_type": "stream",
     "text": [
      "+--------------------+-------------+------------------+\n",
      "|            features|selling_price|        prediction|\n",
      "+--------------------+-------------+------------------+\n",
      "|(16,[0,4,6,10,11,...|      5850000| 5850000.059021673|\n",
      "|[1.0,0.0,0.0,1.0,...|       270000| 269997.7650787173|\n",
      "|[0.0,1.0,0.0,1.0,...|       600000| 600058.2042816209|\n",
      "|[0.0,1.0,0.0,1.0,...|       750000| 750031.7346876716|\n",
      "|[1.0,0.0,0.0,1.0,...|       250000|250002.66085676974|\n",
      "+--------------------+-------------+------------------+\n",
      "only showing top 5 rows\n",
      "\n"
     ]
    }
   ],
   "source": [
    "model_gbt = gbt.fit(df)\n",
    "predictions_gbt = model_gbt.transform(df)\n",
    "predictions_gbt.select(\"features\", \"selling_price\", \"prediction\").show(5)\n"
   ]
  },
  {
   "cell_type": "code",
   "execution_count": 48,
   "id": "3ff85161-70f5-4890-ab0d-e74567ca94c3",
   "metadata": {},
   "outputs": [
    {
     "name": "stdout",
     "output_type": "stream",
     "text": [
      "Root Mean Squared Error (RMSE): 26029.69736352462\n"
     ]
    }
   ],
   "source": [
    "evaluator_gbt = RegressionEvaluator(labelCol=\"selling_price\", predictionCol=\"prediction\", metricName=\"rmse\")\n",
    "rmse_gbt = evaluator_gbt.evaluate(predictions_gbt)\n",
    "print(f\"Root Mean Squared Error (RMSE): {rmse_gbt}\")"
   ]
  },
  {
   "cell_type": "code",
   "execution_count": 50,
   "id": "9b4b1950-51dd-4c21-9ffb-36feaa4f0cd1",
   "metadata": {},
   "outputs": [
    {
     "data": {
      "image/png": "[encoded data removed]",
      "text/plain": [
       "<Figure size 900x500 with 1 Axes>"
      ]
     },
     "metadata": {},
     "output_type": "display_data"
    }
   ],
   "source": [
    "comparison_df = predictions_gbt.select(\"selling_price\", \"prediction\")\n",
    "# Convert to Pandas for visualization\n",
    "pandas_comparison_df = comparison_df.toPandas()\n",
    "\n",
    "import matplotlib.pyplot as plt\n",
    "\n",
    "# Plot actual vs predicted prices\n",
    "plt.figure(figsize=(9,5))\n",
    "plt.plot(pandas_comparison_df['selling_price'], label='Actual Price', marker='o')\n",
    "plt.plot(pandas_comparison_df['prediction'], label='Predicted Price', marker='x')\n",
    "plt.title('Actual vs Predicted Selling Prices')\n",
    "plt.xlabel('Sample Index')\n",
    "plt.ylabel('Selling Price')\n",
    "plt.legend()\n",
    "plt.grid(True)\n",
    "plt.show()\n"
   ]
  }
 ],
 "metadata": {
  "kernelspec": {
   "display_name": "venv",
   "language": "python",
   "name": "python3"
  },
  "language_info": {
   "codemirror_mode": {
    "name": "ipython",
    "version": 3
   },
   "file_extension": ".py",
   "mimetype": "text/x-python",
   "name": "python",
   "nbconvert_exporter": "python",
   "pygments_lexer": "ipython3",
   "version": "3.13.3"
  }
 },
 "nbformat": 4,
 "nbformat_minor": 5
}
